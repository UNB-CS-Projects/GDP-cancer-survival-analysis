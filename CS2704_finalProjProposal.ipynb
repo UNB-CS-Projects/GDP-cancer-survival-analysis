{
  "nbformat": 4,
  "nbformat_minor": 0,
  "metadata": {
    "colab": {
      "provenance": []
    },
    "kernelspec": {
      "name": "python3",
      "display_name": "Python 3"
    },
    "language_info": {
      "name": "python"
    }
  },
  "cells": [
    {
      "cell_type": "markdown",
      "source": [
        "# CS 2704 – Final Project"
      ],
      "metadata": {
        "id": "s-g3y5oVCLN9"
      }
    },
    {
      "cell_type": "markdown",
      "source": [
        "**SCHEDULE**\n",
        "\n",
        "Mar 29 (Sat): Submit proposal (individual submission)\n",
        "\n",
        "– Apr 9 (Wed): Final presentation\n",
        "\n",
        "– Apr 23 (Wed): Final report/presentation\n",
        "\n",
        "\n",
        "\n",
        "**Chosen Datasets:**\n",
        "\n",
        "– https://data.worldbank.org/indicator/NY.GDP.PCAP.CD | World Bank Group\n",
        "\n",
        "– https://gco.iarc.fr/survival/survcan/dataviz/table | World Health Organization\n",
        "\n",
        "\n",
        "**Github Repository:**\n",
        "\n",
        "– https://github.com/ChristianDenniss/GDP-cancer-survival-analysis"
      ],
      "metadata": {
        "id": "HEtV_sFfKABo"
      }
    },
    {
      "cell_type": "markdown",
      "source": [
        "# Group Members"
      ],
      "metadata": {
        "id": "yUkKJtkIDEyk"
      }
    },
    {
      "cell_type": "markdown",
      "source": [
        "Christian Dennis\n",
        "\n",
        "Hadi Akbar\n",
        "\n",
        "Rudolph Stephen\n"
      ],
      "metadata": {
        "id": "E7bN2JM4C0nk"
      }
    },
    {
      "cell_type": "markdown",
      "source": [
        "# Hypothesis"
      ],
      "metadata": {
        "id": "Vqbj5KCsDgVc"
      }
    },
    {
      "cell_type": "markdown",
      "source": [
        "**Brief Background**:\n",
        "\n",
        "GDP per capita could explain how well a country is equipped to provide advanced medical care for late-stage cancer patients, including access to cutting-edge treatments, specialized healthcare facilities, and early interventions.\n",
        "\n",
        "**Statement**:\n",
        "\n",
        "The survival rate of late-stage cancer has a strong correlation with GDP per capita, suggesting that higher economic resources may contribute to better cancer treatment and improved patient outcomes.\n",
        "\n",
        "**Challenges in Data Collection / Hypothesis Adjustment**:\n",
        "\n",
        "Initially, we hypothesized that a countries GDP per capita strongly correlates with the survival rate of late-stage cancer, because wealthier countries are better equipped to provide advanced medical care. However, as we began collecting data, we found that reliable statistics specifically on late-stage cancer survival were difficult to obtain, making it challenging to test our hypothesis effectively. Given these limitations, we decided to broaden our focus to overall cancer survival rates rather than just late-stage cases. While this adjustment changes the specificity of our hypothesis, the core idea remains the same: higher economic resources may contribute to better cancer treatment and improved patient outcomes.\n",
        "\n",
        "**New Statement**\n",
        "\n",
        "The survival rate of general cancer diagnoses among both sexes has a strong correlation with GDP per capita, suggesting that higher economic resources may contribute to better overall cancer treatment and improved patient outcomes.\n",
        "\n",
        "\n",
        "**Plan for testing Hypothesis**:\n",
        "\n",
        "Collect Data – Gather countries general cancer survival rate data (WHO,GCO, CONCORD) and GDP per capita (World Bank).\n",
        "\n",
        "Merge & Clean Data – Standardize country names and handle any missing values if needed\n",
        "\n",
        "Analyze Correlation – Use *To-Be-Determind*\n",
        "to test the relationship.\n",
        "\n",
        "Visualize Results – Create scatter plots and statistical summaries.\n",
        "\n",
        "Interpret Findings – Assess significance (p < 0.05) and consider confounding factors."
      ],
      "metadata": {
        "id": "JDKigyhvDi6M"
      }
    },
    {
      "cell_type": "markdown",
      "source": [
        "$$\\sin(x) = \\frac{x^2}{\\cos(x)}$$\n",
        "What is $x$?\n",
        "\n",
        "markdown example for math"
      ],
      "metadata": {
        "id": "bukMsGZvErVs"
      }
    }
  ]
}
